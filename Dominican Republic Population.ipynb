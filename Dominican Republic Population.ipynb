{
 "cells": [
  {
   "cell_type": "markdown",
   "id": "2afe9991-9b17-4f86-8b55-351f6e522680",
   "metadata": {},
   "source": [
    "# Geographic Visualization of the Dominican Republic Provinces\n",
    "\n",
    "This project aims to represent the provinces of the Dominican Republic on a geographic map, displaying information related to population. We use geospatial data in **GeoJSON** format along with a tabular dataset that includes province names, coordinates, and population data.\n",
    "\n",
    "## Data Used\n",
    "\n",
    "### 1. GeoJSON File\n",
    "The **GeoJSON** file containing the geographic boundaries of the provinces was obtained from [Cartography Vectors](https://cartographyvectors.com/map/1436-dominican-republic-with-regions).\n",
    "\n",
    "### 2. DataFrame with Province Data\n",
    "The DataFrame contains the following fields:\n",
    "- **Province**: Name of the province.\n",
    "- **Latitude and Longitude**: Geographical coordinates of the province.\n",
    "- **Population**: Total population of the province."
   ]
  },
  {
   "cell_type": "code",
   "execution_count": null,
   "id": "df293b48-4dcc-4e97-953e-343cfd41f5ae",
   "metadata": {},
   "outputs": [],
   "source": [
    "#!pip install beautifulsoup4 pandas requests geopandas mapclassify"
   ]
  },
  {
   "cell_type": "code",
   "execution_count": 257,
   "id": "8855a156-382e-4656-a027-901a423bf6a5",
   "metadata": {},
   "outputs": [],
   "source": [
    "#!pip install mapclassify"
   ]
  },
  {
   "cell_type": "markdown",
   "id": "d59af934-0a12-4aeb-8970-0d86a28a1fa9",
   "metadata": {},
   "source": [
    "### 1. Loading Required Libraries\n",
    "In this section, we load the libraries needed to handle geographic data, perform operations on dataframes, and create maps.\n",
    "\n",
    "- `geopandas` for handling geospatial data.\n",
    "- `pandas` for manipulating tabular data.\n",
    "- `matplotlib` for data visualization.\n",
    "- `shapely.geometry` for creating points from coordinates."
   ]
  },
  {
   "cell_type": "code",
   "execution_count": 254,
   "id": "553b8d8b-0223-4117-bfeb-4440df15fae4",
   "metadata": {},
   "outputs": [],
   "source": [
    "import requests\n",
    "import pandas as pd\n",
    "import geopandas as gpd\n",
    "from bs4 import BeautifulSoup\n",
    "import matplotlib.pyplot  as plt"
   ]
  },
  {
   "cell_type": "markdown",
   "id": "42182035-1972-4853-8632-c000c79d9bcc",
   "metadata": {},
   "source": [
    "### 2. Load the GeoJSON File and the Coordinate DataFrame\n",
    "We load the **GeoJSON** file containing the boundaries of the provinces of the Dominican Republic and combine it with the DataFrame containing the province data (name, population, coordinates).\n",
    "\n",
    "- The **GeoJSON** is downloaded from the National Geographic Institute of the Dominican Republic (IDERD) website.\n",
    "- The DataFrame contains the provinces with their respective latitudes, longitudes, and population.\n"
   ]
  },
  {
   "cell_type": "code",
   "execution_count": 259,
   "id": "a400b960-9c73-4811-9701-1fafc40995d9",
   "metadata": {},
   "outputs": [],
   "source": [
    "url = \"https://es.wikipedia.org/wiki/Anexo:Ciudades_de_Rep%C3%BAblica_Dominicana_por_poblaci%C3%B3n\"\n",
    "provinces_geojson = gpd.read_file('dominican-republic-with-regions_.geojson')"
   ]
  },
  {
   "cell_type": "markdown",
   "id": "7b65f684-8410-4a3b-88be-af5466061b65",
   "metadata": {},
   "source": [
    "### 2.1. Extracting and Processing Data from an HTML Table with Web Scraping\n",
    "\n",
    "In this section, we perform web scraping to extract data from an HTML table on Wikipedia that contains information about cities and provinces. We then process this data to build a DataFrame that displays the total population by province.\n",
    "\n",
    "#### 2.1.1 Making the HTTP Request and Parsing the Web Page\n",
    "\n",
    "We use the `requests` library to make a GET request to the URL containing the table of interest. We then use `BeautifulSoup` to parse the HTML content of the page."
   ]
  },
  {
   "cell_type": "code",
   "execution_count": 184,
   "id": "b30b3cd5-8783-4e87-b051-9664f31a137d",
   "metadata": {},
   "outputs": [],
   "source": [
    "response = requests.get(url)\n",
    "html_content = response.content\n",
    "soup = BeautifulSoup(html_content, 'html.parser')"
   ]
  },
  {
   "cell_type": "markdown",
   "id": "56821919-257c-4dd8-a697-bfe9dae5318a",
   "metadata": {},
   "source": [
    "#### 2.1.2 Finding the HTML Table\n",
    "We use the soup.find() method to locate the table that has the wikitable class. This allows us to identify the correct table on the page."
   ]
  },
  {
   "cell_type": "code",
   "execution_count": 185,
   "id": "55a68c86-9437-4923-88f6-de6d0caeb193",
   "metadata": {},
   "outputs": [],
   "source": [
    "table = soup.find('table', {'class': 'wikitable'})\n",
    "#print(table)"
   ]
  },
  {
   "cell_type": "markdown",
   "id": "0bbae5e1-980e-48f4-8627-a6e1879522ab",
   "metadata": {},
   "source": [
    "#### 2.1.3 Extracting Rows and Columns\n",
    "\n",
    "Using the find_all('tr') method, we extract all the rows from the table. Then, we iterate over the rows to extract the data from the columns (cells <td>), such as the ranking, city, province, and population."
   ]
  },
  {
   "cell_type": "code",
   "execution_count": 186,
   "id": "b95ee8f1-77fc-43bd-9d6d-863173b46568",
   "metadata": {},
   "outputs": [],
   "source": [
    "rows = table.find_all('tr')\n",
    "#print(rows)"
   ]
  },
  {
   "cell_type": "code",
   "execution_count": 187,
   "id": "69bcc246-00b6-49e5-bb01-51633f44bc71",
   "metadata": {},
   "outputs": [],
   "source": [
    "data = []\n",
    "for row in rows[1:]:\n",
    "    columns = row.find_all('td')\n",
    "    if len(columns) > 0:\n",
    "        ranking = columns[0].get_text(strip=True)\n",
    "        city = columns[1].get_text(strip=True)\n",
    "        province = columns[2].get_text(strip=True)\n",
    "        population = columns[3].get_text(strip=True)\n",
    "        data.append([ranking,city,province, population])\n",
    "    else:\n",
    "        print('No data Found')"
   ]
  },
  {
   "cell_type": "markdown",
   "id": "bbbbe81e-398e-43a1-b331-d80b45f55a6b",
   "metadata": {},
   "source": [
    "#### 2.1.4 Creating a DataFrame\n",
    "\n",
    "We create a pandas DataFrame from the extracted data, with the columns:\n",
    "- **`Ranking`**\n",
    "- **`City`**\n",
    "- **`Province`**\n",
    "- **`Population`**\n",
    "\n",
    "To ensure correct handling, we convert the data types to string."
   ]
  },
  {
   "cell_type": "code",
   "execution_count": 188,
   "id": "a4d88a87-e343-4f6d-8229-c7ebb7636719",
   "metadata": {},
   "outputs": [],
   "source": [
    "df = pd.DataFrame(data, columns=['Ranking', 'City', 'Province', 'Population'])"
   ]
  },
  {
   "cell_type": "code",
   "execution_count": 189,
   "id": "74ba3c02-9e44-4118-afa6-0d188655187a",
   "metadata": {},
   "outputs": [],
   "source": [
    "#cust_segmentation_copy  = cust_segmentation_copy.astype({'Education': 'string', 'Marital_Status': 'string'})\n",
    "df = df.astype({'Ranking': 'string','City': 'string','Province': 'string','Population': 'string'})"
   ]
  },
  {
   "cell_type": "code",
   "execution_count": 190,
   "id": "62f46519-35c2-495d-a552-f67ea591ca2c",
   "metadata": {},
   "outputs": [
    {
     "name": "stdout",
     "output_type": "stream",
     "text": [
      "<class 'pandas.core.frame.DataFrame'>\n",
      "RangeIndex: 54 entries, 0 to 53\n",
      "Data columns (total 4 columns):\n",
      " #   Column      Non-Null Count  Dtype \n",
      "---  ------      --------------  ----- \n",
      " 0   Ranking     54 non-null     string\n",
      " 1   City        54 non-null     string\n",
      " 2   Province    54 non-null     string\n",
      " 3   Population  54 non-null     string\n",
      "dtypes: string(4)\n",
      "memory usage: 1.8 KB\n"
     ]
    }
   ],
   "source": [
    "df.info()"
   ]
  },
  {
   "cell_type": "markdown",
   "id": "d8f87b44-6209-428a-b996-da0457e9b469",
   "metadata": {},
   "source": [
    "#### 2.1.5 Cleaning Population Data\n",
    "We remove the commas from the numbers in the Population column so that we can convert them to int type."
   ]
  },
  {
   "cell_type": "code",
   "execution_count": 191,
   "id": "9bb067d6-4988-4c90-bc9b-adde5d71fd42",
   "metadata": {},
   "outputs": [],
   "source": [
    "df['Population'] = df['Population'].str.replace(',','')"
   ]
  },
  {
   "cell_type": "code",
   "execution_count": 192,
   "id": "27aff000-f8fa-4f47-9ec3-3f5631f1afcb",
   "metadata": {},
   "outputs": [
    {
     "data": {
      "text/html": [
       "<div>\n",
       "<style scoped>\n",
       "    .dataframe tbody tr th:only-of-type {\n",
       "        vertical-align: middle;\n",
       "    }\n",
       "\n",
       "    .dataframe tbody tr th {\n",
       "        vertical-align: top;\n",
       "    }\n",
       "\n",
       "    .dataframe thead th {\n",
       "        text-align: right;\n",
       "    }\n",
       "</style>\n",
       "<table border=\"1\" class=\"dataframe\">\n",
       "  <thead>\n",
       "    <tr style=\"text-align: right;\">\n",
       "      <th></th>\n",
       "      <th>Ranking</th>\n",
       "      <th>City</th>\n",
       "      <th>Province</th>\n",
       "      <th>Population</th>\n",
       "    </tr>\n",
       "  </thead>\n",
       "  <tbody>\n",
       "    <tr>\n",
       "      <th>0</th>\n",
       "      <td>1</td>\n",
       "      <td>Santo Domingo Este</td>\n",
       "      <td>Santo Domingo</td>\n",
       "      <td>1029117</td>\n",
       "    </tr>\n",
       "    <tr>\n",
       "      <th>1</th>\n",
       "      <td>2</td>\n",
       "      <td>Distrito Nacional</td>\n",
       "      <td>Distrito Nacional</td>\n",
       "      <td>1029110</td>\n",
       "    </tr>\n",
       "    <tr>\n",
       "      <th>2</th>\n",
       "      <td>3</td>\n",
       "      <td>Santiago de los Caballeros</td>\n",
       "      <td>Santiago</td>\n",
       "      <td>771748</td>\n",
       "    </tr>\n",
       "    <tr>\n",
       "      <th>3</th>\n",
       "      <td>4</td>\n",
       "      <td>Santo Domingo Norte</td>\n",
       "      <td>Santo Domingo</td>\n",
       "      <td>674274</td>\n",
       "    </tr>\n",
       "    <tr>\n",
       "      <th>4</th>\n",
       "      <td>7</td>\n",
       "      <td>Higuey</td>\n",
       "      <td>La Altagracia</td>\n",
       "      <td>415084</td>\n",
       "    </tr>\n",
       "  </tbody>\n",
       "</table>\n",
       "</div>"
      ],
      "text/plain": [
       "  Ranking                        City           Province Population\n",
       "0       1          Santo Domingo Este      Santo Domingo    1029117\n",
       "1       2           Distrito Nacional  Distrito Nacional    1029110\n",
       "2       3  Santiago de los Caballeros           Santiago     771748\n",
       "3       4         Santo Domingo Norte      Santo Domingo     674274\n",
       "4       7                      Higuey      La Altagracia     415084"
      ]
     },
     "execution_count": 192,
     "metadata": {},
     "output_type": "execute_result"
    }
   ],
   "source": [
    "df.head()"
   ]
  },
  {
   "cell_type": "code",
   "execution_count": 206,
   "id": "cd8f01f8-d5bb-4aa6-9c3e-9ac63b968aca",
   "metadata": {},
   "outputs": [
    {
     "name": "stdout",
     "output_type": "stream",
     "text": [
      "<class 'pandas.core.frame.DataFrame'>\n",
      "RangeIndex: 54 entries, 0 to 53\n",
      "Data columns (total 4 columns):\n",
      " #   Column      Non-Null Count  Dtype \n",
      "---  ------      --------------  ----- \n",
      " 0   Ranking     54 non-null     string\n",
      " 1   City        54 non-null     string\n",
      " 2   Province    54 non-null     string\n",
      " 3   Population  54 non-null     int64 \n",
      "dtypes: int64(1), string(3)\n",
      "memory usage: 1.8 KB\n"
     ]
    }
   ],
   "source": [
    "df = df.astype({'Population':'int'})\n",
    "df.info()"
   ]
  },
  {
   "cell_type": "markdown",
   "id": "ee3749cf-d8be-4570-8a38-7a0f150f4492",
   "metadata": {},
   "source": [
    "#### 2.1.6 Grouping by Province\n",
    "\n",
    "We eliminate the unnecessary columns **`(Ranking and City)`** and group the data by province, adding the total population by province."
   ]
  },
  {
   "cell_type": "code",
   "execution_count": 212,
   "id": "472470a3-1683-4445-834b-ae33a4d43f67",
   "metadata": {
    "scrolled": true
   },
   "outputs": [
    {
     "name": "stdout",
     "output_type": "stream",
     "text": [
      "<class 'pandas.core.frame.DataFrame'>\n",
      "RangeIndex: 54 entries, 0 to 53\n",
      "Data columns (total 2 columns):\n",
      " #   Column      Non-Null Count  Dtype \n",
      "---  ------      --------------  ----- \n",
      " 0   Province    54 non-null     string\n",
      " 1   Population  54 non-null     int64 \n",
      "dtypes: int64(1), string(1)\n",
      "memory usage: 996.0 bytes\n"
     ]
    }
   ],
   "source": [
    "grouped_df = df.copy()\n",
    "grouped_df = grouped_df.drop(columns=['Ranking', 'City'])\n",
    "grouped_df.info()"
   ]
  },
  {
   "cell_type": "markdown",
   "id": "7c464f5e-56ea-4386-83ce-e2577c7ca288",
   "metadata": {},
   "source": [
    "#### 2.1.7 Correction of Name Errors in Provinces\n",
    "\n",
    "We made a correction to the name of the province **`\"Baoruco\"`**, replacing it with **`\"Bahoruco\"`** to maintain consistency in the data."
   ]
  },
  {
   "cell_type": "code",
   "execution_count": 214,
   "id": "0719302c-a9fa-400c-896f-c2b9c6d31e76",
   "metadata": {},
   "outputs": [
    {
     "data": {
      "text/html": [
       "<div>\n",
       "<style scoped>\n",
       "    .dataframe tbody tr th:only-of-type {\n",
       "        vertical-align: middle;\n",
       "    }\n",
       "\n",
       "    .dataframe tbody tr th {\n",
       "        vertical-align: top;\n",
       "    }\n",
       "\n",
       "    .dataframe thead th {\n",
       "        text-align: right;\n",
       "    }\n",
       "</style>\n",
       "<table border=\"1\" class=\"dataframe\">\n",
       "  <thead>\n",
       "    <tr style=\"text-align: right;\">\n",
       "      <th></th>\n",
       "      <th>Province</th>\n",
       "      <th>Population</th>\n",
       "    </tr>\n",
       "  </thead>\n",
       "  <tbody>\n",
       "    <tr>\n",
       "      <th>0</th>\n",
       "      <td>Bahoruco</td>\n",
       "      <td>40644</td>\n",
       "    </tr>\n",
       "    <tr>\n",
       "      <th>1</th>\n",
       "      <td>Barahona</td>\n",
       "      <td>90166</td>\n",
       "    </tr>\n",
       "    <tr>\n",
       "      <th>2</th>\n",
       "      <td>Dajabón</td>\n",
       "      <td>35809</td>\n",
       "    </tr>\n",
       "    <tr>\n",
       "      <th>3</th>\n",
       "      <td>Distrito Nacional</td>\n",
       "      <td>1029110</td>\n",
       "    </tr>\n",
       "    <tr>\n",
       "      <th>4</th>\n",
       "      <td>Duarte</td>\n",
       "      <td>238782</td>\n",
       "    </tr>\n",
       "    <tr>\n",
       "      <th>5</th>\n",
       "      <td>El Seibo</td>\n",
       "      <td>72775</td>\n",
       "    </tr>\n",
       "    <tr>\n",
       "      <th>6</th>\n",
       "      <td>Espaillat</td>\n",
       "      <td>204803</td>\n",
       "    </tr>\n",
       "    <tr>\n",
       "      <th>7</th>\n",
       "      <td>Hato Mayor</td>\n",
       "      <td>70582</td>\n",
       "    </tr>\n",
       "    <tr>\n",
       "      <th>8</th>\n",
       "      <td>Hermanas Mirabal</td>\n",
       "      <td>70282</td>\n",
       "    </tr>\n",
       "    <tr>\n",
       "      <th>9</th>\n",
       "      <td>La Altagracia</td>\n",
       "      <td>415084</td>\n",
       "    </tr>\n",
       "    <tr>\n",
       "      <th>10</th>\n",
       "      <td>La Romana</td>\n",
       "      <td>270686</td>\n",
       "    </tr>\n",
       "    <tr>\n",
       "      <th>11</th>\n",
       "      <td>La Vega</td>\n",
       "      <td>413430</td>\n",
       "    </tr>\n",
       "    <tr>\n",
       "      <th>12</th>\n",
       "      <td>María Trinidad Sánchez</td>\n",
       "      <td>81424</td>\n",
       "    </tr>\n",
       "    <tr>\n",
       "      <th>13</th>\n",
       "      <td>Monseñor Nouel</td>\n",
       "      <td>144923</td>\n",
       "    </tr>\n",
       "    <tr>\n",
       "      <th>14</th>\n",
       "      <td>Monte Cristi</td>\n",
       "      <td>66720</td>\n",
       "    </tr>\n",
       "    <tr>\n",
       "      <th>15</th>\n",
       "      <td>Monte Plata</td>\n",
       "      <td>147427</td>\n",
       "    </tr>\n",
       "    <tr>\n",
       "      <th>16</th>\n",
       "      <td>Peravia</td>\n",
       "      <td>158019</td>\n",
       "    </tr>\n",
       "    <tr>\n",
       "      <th>17</th>\n",
       "      <td>Provincia de Santiago</td>\n",
       "      <td>42423</td>\n",
       "    </tr>\n",
       "    <tr>\n",
       "      <th>18</th>\n",
       "      <td>Puerto Plata</td>\n",
       "      <td>219075</td>\n",
       "    </tr>\n",
       "    <tr>\n",
       "      <th>19</th>\n",
       "      <td>Samaná</td>\n",
       "      <td>60878</td>\n",
       "    </tr>\n",
       "    <tr>\n",
       "      <th>20</th>\n",
       "      <td>San Cristóbal</td>\n",
       "      <td>535301</td>\n",
       "    </tr>\n",
       "    <tr>\n",
       "      <th>21</th>\n",
       "      <td>San José de Ocoa</td>\n",
       "      <td>43394</td>\n",
       "    </tr>\n",
       "    <tr>\n",
       "      <th>22</th>\n",
       "      <td>San Juan</td>\n",
       "      <td>191188</td>\n",
       "    </tr>\n",
       "    <tr>\n",
       "      <th>23</th>\n",
       "      <td>San Pedro de Macorís</td>\n",
       "      <td>217523</td>\n",
       "    </tr>\n",
       "    <tr>\n",
       "      <th>24</th>\n",
       "      <td>Santiago</td>\n",
       "      <td>962413</td>\n",
       "    </tr>\n",
       "    <tr>\n",
       "      <th>25</th>\n",
       "      <td>Santiago Rodríguez</td>\n",
       "      <td>38798</td>\n",
       "    </tr>\n",
       "    <tr>\n",
       "      <th>26</th>\n",
       "      <td>Santo Domingo</td>\n",
       "      <td>2769588</td>\n",
       "    </tr>\n",
       "    <tr>\n",
       "      <th>27</th>\n",
       "      <td>Sánchez Ramírez</td>\n",
       "      <td>122551</td>\n",
       "    </tr>\n",
       "    <tr>\n",
       "      <th>28</th>\n",
       "      <td>Valverde</td>\n",
       "      <td>156462</td>\n",
       "    </tr>\n",
       "  </tbody>\n",
       "</table>\n",
       "</div>"
      ],
      "text/plain": [
       "                  Province  Population\n",
       "0                 Bahoruco       40644\n",
       "1                 Barahona       90166\n",
       "2                  Dajabón       35809\n",
       "3        Distrito Nacional     1029110\n",
       "4                   Duarte      238782\n",
       "5                 El Seibo       72775\n",
       "6                Espaillat      204803\n",
       "7               Hato Mayor       70582\n",
       "8         Hermanas Mirabal       70282\n",
       "9            La Altagracia      415084\n",
       "10               La Romana      270686\n",
       "11                 La Vega      413430\n",
       "12  María Trinidad Sánchez       81424\n",
       "13          Monseñor Nouel      144923\n",
       "14            Monte Cristi       66720\n",
       "15             Monte Plata      147427\n",
       "16                 Peravia      158019\n",
       "17   Provincia de Santiago       42423\n",
       "18            Puerto Plata      219075\n",
       "19                  Samaná       60878\n",
       "20           San Cristóbal      535301\n",
       "21        San José de Ocoa       43394\n",
       "22                San Juan      191188\n",
       "23    San Pedro de Macorís      217523\n",
       "24                Santiago      962413\n",
       "25      Santiago Rodríguez       38798\n",
       "26           Santo Domingo     2769588\n",
       "27         Sánchez Ramírez      122551\n",
       "28                Valverde      156462"
      ]
     },
     "execution_count": 214,
     "metadata": {},
     "output_type": "execute_result"
    }
   ],
   "source": [
    "grouped_df = grouped_df.groupby(['Province'])['Population'].sum().reset_index()\n",
    "grouped_df['Province'] = grouped_df['Province'].replace('Baoruco', 'Bahoruco')\n",
    "grouped_df.tail(100)"
   ]
  },
  {
   "cell_type": "code",
   "execution_count": 260,
   "id": "d264ab37-4350-4948-b99a-fce410320132",
   "metadata": {},
   "outputs": [],
   "source": [
    "#grouped_df.plot(x='Province', y='Population',kind='bar')"
   ]
  },
  {
   "cell_type": "markdown",
   "id": "2b7a8177-c0bf-4148-9c18-00d55ffe6fa0",
   "metadata": {},
   "source": [
    "### 2.1.8 Population Visualization by Province\n",
    "\n",
    "In this section, we create a visualization that shows the total population of the Dominican Republic grouped by province. We use a bar chart to represent this data, customizing the axes and the title of the chart."
   ]
  },
  {
   "cell_type": "code",
   "execution_count": 216,
   "id": "aaebce85-7b55-43f3-ba44-2b879345ebea",
   "metadata": {},
   "outputs": [
    {
     "data": {
      "image/png": "[encoded data removed]",
      "text/plain": [
       "<Figure size 1000x600 with 1 Axes>"
      ]
     },
     "metadata": {},
     "output_type": "display_data"
    }
   ],
   "source": [
    "fig, ax = plt.subplots(figsize=(10,6))\n",
    "\n",
    "ax.bar(grouped_df['Province'], grouped_df['Population'], color='skyblue')\n",
    "\n",
    "ax.set_title('Dominican Republic Population By Province', fontsize=14)\n",
    "ax.set_xlabel('Province', fontsize=12)\n",
    "ax.set_ylabel('Population', fontsize=12)\n",
    "\n",
    "plt.xticks(rotation=90)\n",
    "plt.tight_layout()\n",
    "\n",
    "plt.show()"
   ]
  },
  {
   "cell_type": "markdown",
   "id": "76467ac7-faeb-4ef7-a317-55863fc9cad2",
   "metadata": {},
   "source": [
    "### 3. Preparing and Joining Coordinate Data\n",
    "\n",
    "In this section, we load the **``province_coordinates.csv``** file and merge it to add the coordinates of each province to our DataFrame.\n",
    "\n",
    "Columns added: **``Latitudes``** and **``Longitude.``**"
   ]
  },
  {
   "cell_type": "code",
   "execution_count": 237,
   "id": "839cfbf7-c170-4f30-b56e-9b3c79df0020",
   "metadata": {},
   "outputs": [],
   "source": [
    "coordinates_df = pd.read_csv('province_coordinates.csv')"
   ]
  },
  {
   "cell_type": "code",
   "execution_count": 238,
   "id": "93f20393-2f19-4bc0-8331-7f02b545f035",
   "metadata": {},
   "outputs": [],
   "source": [
    "province_df_with_coordinates = pd.merge(grouped_df, coordinates_df, on='Province', how='left')"
   ]
  },
  {
   "cell_type": "code",
   "execution_count": 239,
   "id": "7f16abee-d98e-4563-a81f-4549f1f57c9b",
   "metadata": {},
   "outputs": [
    {
     "data": {
      "text/html": [
       "<div>\n",
       "<style scoped>\n",
       "    .dataframe tbody tr th:only-of-type {\n",
       "        vertical-align: middle;\n",
       "    }\n",
       "\n",
       "    .dataframe tbody tr th {\n",
       "        vertical-align: top;\n",
       "    }\n",
       "\n",
       "    .dataframe thead th {\n",
       "        text-align: right;\n",
       "    }\n",
       "</style>\n",
       "<table border=\"1\" class=\"dataframe\">\n",
       "  <thead>\n",
       "    <tr style=\"text-align: right;\">\n",
       "      <th></th>\n",
       "      <th>Province</th>\n",
       "      <th>Population</th>\n",
       "      <th>Latitude</th>\n",
       "      <th>Longitude</th>\n",
       "    </tr>\n",
       "  </thead>\n",
       "  <tbody>\n",
       "    <tr>\n",
       "      <th>0</th>\n",
       "      <td>Bahoruco</td>\n",
       "      <td>40644</td>\n",
       "      <td>18.5103</td>\n",
       "      <td>-71.4489</td>\n",
       "    </tr>\n",
       "    <tr>\n",
       "      <th>1</th>\n",
       "      <td>Barahona</td>\n",
       "      <td>90166</td>\n",
       "      <td>18.2090</td>\n",
       "      <td>-71.1008</td>\n",
       "    </tr>\n",
       "    <tr>\n",
       "      <th>2</th>\n",
       "      <td>Dajabón</td>\n",
       "      <td>35809</td>\n",
       "      <td>19.5486</td>\n",
       "      <td>-71.7084</td>\n",
       "    </tr>\n",
       "    <tr>\n",
       "      <th>3</th>\n",
       "      <td>Distrito Nacional</td>\n",
       "      <td>1029110</td>\n",
       "      <td>18.4834</td>\n",
       "      <td>-69.9290</td>\n",
       "    </tr>\n",
       "    <tr>\n",
       "      <th>4</th>\n",
       "      <td>Duarte</td>\n",
       "      <td>238782</td>\n",
       "      <td>19.2076</td>\n",
       "      <td>-70.3033</td>\n",
       "    </tr>\n",
       "  </tbody>\n",
       "</table>\n",
       "</div>"
      ],
      "text/plain": [
       "            Province  Population  Latitude  Longitude\n",
       "0           Bahoruco       40644   18.5103   -71.4489\n",
       "1           Barahona       90166   18.2090   -71.1008\n",
       "2            Dajabón       35809   19.5486   -71.7084\n",
       "3  Distrito Nacional     1029110   18.4834   -69.9290\n",
       "4             Duarte      238782   19.2076   -70.3033"
      ]
     },
     "execution_count": 239,
     "metadata": {},
     "output_type": "execute_result"
    }
   ],
   "source": [
    "province_df_with_coordinates.head()"
   ]
  },
  {
   "cell_type": "markdown",
   "id": "ee83c3ad-4146-4928-aaf6-4fe3e41b67f0",
   "metadata": {},
   "source": [
    "### 4. Data Preparation and Joining\n",
    "\n",
    "In this section, we join the data from the **`GeoJSON`** file with the DataFrame containing the provinces and their population, using the province names as the join key.\n",
    "\n",
    "- We verify that the province names in both files match, and make any necessary corrections.\n",
    "- We combine the **`GeoJSON`** GeoDataFrame with the population DataFrame to create a new dataset containing both geographic and tabular information.\n",
    "\n",
    "**`merged = provinces_geojson.set_index('name').join(province_df_with_coordinates.set_index('Province'))`**\n",
    "\n",
    "### 5. Creating the Choropleth Map\n",
    "We generate a choropleth map using the combined data, where each province is colored according to its population. We use `geopandas` and `matplotlib` to create the visualization.\n",
    "\n",
    "- The `population` column in the DataFrame is used to define the color intensity.\n",
    "- The map is adjusted with the `OrRd` (orange-red) color palette to show the differences in population.\n",
    "\n",
    "**`merged.plot(column='Population', cmap='YlOrRd', legend=True)`**\n",
    "\n",
    "### 6. Interactive Map Visualization\n",
    "As a complement, we can use the **`geopandas`** library to create a map where the provinces are shown with markers based on their coordinates. The map can be viewed in the browser and allows interaction with the geographic data.\n",
    "\n",
    "- Each marker shows the name of the province and its population.\n",
    "\n",
    "**``plt.show()``**"
   ]
  },
  {
   "cell_type": "code",
   "execution_count": 255,
   "id": "0fd9fdcf-d51e-44b9-87d1-6f9759a77be7",
   "metadata": {},
   "outputs": [
    {
     "data": {
      "image/png": "[encoded data removed]",
      "text/plain": [
       "<Figure size 640x480 with 2 Axes>"
      ]
     },
     "metadata": {},
     "output_type": "display_data"
    }
   ],
   "source": [
    "# Unir el DataFrame con el GeoDataFrame basado en la columna de provincias\n",
    "merged = provinces_geojson.set_index('name').join(province_df_with_coordinates.set_index('Province'))\n",
    "\n",
    "# Crear un mapa coroplético basado en la población\n",
    "merged.plot(column='Population', cmap='YlOrRd', legend=True)\n",
    "plt.show()"
   ]
  },
  {
   "cell_type": "markdown",
   "id": "59288cb5-c52b-41fe-a06e-00d6be4eb182",
   "metadata": {},
   "source": [
    "### 7. Saving files\n",
    "Finally, we save the following files in ``.csv``:\n",
    "\n",
    "- **``dominican_republic_population.csv``**: contains the population by province\n",
    "- **``grouped_data.csv``**: contains the population data **``grouped``** by province."
   ]
  },
  {
   "cell_type": "code",
   "execution_count": 166,
   "id": "a8709c72-cf00-42df-b4f9-40c6f3f8f99e",
   "metadata": {},
   "outputs": [],
   "source": [
    "df.to_csv('dominican_republic_population.csv')\n"
   ]
  },
  {
   "cell_type": "code",
   "execution_count": null,
   "id": "40c89c55-e559-4e98-814c-82213e8e89bd",
   "metadata": {},
   "outputs": [],
   "source": [
    "grouped_df.to_csv('grouped_data.csv')"
   ]
  },
  {
   "cell_type": "markdown",
   "id": "dbd2d00c-7e0f-4975-885e-29dd162edd7f",
   "metadata": {},
   "source": [
    "### Conclusion\n",
    "\n",
    "This project provides a clear and visually appealing representation of the Dominican Republic's provinces and their population data. The visualization can be adapted for both static and interactive displays, offering flexibility depending on the required output.\n",
    "\n",
    "It serves as a useful tool for understanding the demographic distribution of the Dominican Republic and can be extended to include additional socio-economic indicators or datasets for more comprehensive insights."
   ]
  }
 ],
 "metadata": {
  "kernelspec": {
   "display_name": "Python 3 (ipykernel)",
   "language": "python",
   "name": "python3"
  },
  "language_info": {
   "codemirror_mode": {
    "name": "ipython",
    "version": 3
   },
   "file_extension": ".py",
   "mimetype": "text/x-python",
   "name": "python",
   "nbconvert_exporter": "python",
   "pygments_lexer": "ipython3",
   "version": "3.12.3"
  }
 },
 "nbformat": 4,
 "nbformat_minor": 5
}
