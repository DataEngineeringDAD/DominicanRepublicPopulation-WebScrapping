{
 "cells": [
  {
   "cell_type": "code",
   "execution_count": 1,
   "id": "e929a416-7c8d-420e-85ac-136fff3a043a",
   "metadata": {},
   "outputs": [],
   "source": [
    "from urllib.request import urlopen"
   ]
  },
  {
   "cell_type": "code",
   "execution_count": 33,
   "id": "a2cb393c-7024-4825-9866-96496b4f1eaa",
   "metadata": {},
   "outputs": [],
   "source": [
    "#url = \"http://olympus.realpython.org/profiles/aphrodite\"\n",
    "url = \"https://es.wikipedia.org/wiki/Anexo:Ciudades_de_Rep%C3%BAblica_Dominicana_por_poblaci%C3%B3n\""
   ]
  },
  {
   "cell_type": "code",
   "execution_count": 34,
   "id": "0197b59f-0776-4690-a5be-09d86105408a",
   "metadata": {},
   "outputs": [
    {
     "data": {
      "text/plain": [
       "<http.client.HTTPResponse at 0x1d0a5afd9c0>"
      ]
     },
     "execution_count": 34,
     "metadata": {},
     "output_type": "execute_result"
    }
   ],
   "source": [
    "page = urlopen(url)\n",
    "page"
   ]
  },
  {
   "cell_type": "code",
   "execution_count": 35,
   "id": "d112816a-13f9-41c9-812c-a2e4e26b2301",
   "metadata": {},
   "outputs": [],
   "source": [
    "html_bytes = page.read()\n",
    "html = html_bytes.decode(\"utf-8\")"
   ]
  },
  {
   "cell_type": "code",
   "execution_count": 18,
   "id": "27915f54-b8cb-4776-af7f-5885cac78966",
   "metadata": {},
   "outputs": [
    {
     "name": "stdout",
     "output_type": "stream",
     "text": [
      "<html>\n",
      "<head>\n",
      "<title>Profile: Aphrodite</title>\n",
      "</head>\n",
      "<body bgcolor=\"yellow\">\n",
      "<center>\n",
      "<br><br>\n",
      "<img src=\"/static/aphrodite.gif\" />\n",
      "<h2>Name: Aphrodite</h2>\n",
      "<br><br>\n",
      "Favorite animal: Dove\n",
      "<br><br>\n",
      "Favorite color: Red\n",
      "<br><br>\n",
      "Hometown: Mount Olympus\n",
      "</center>\n",
      "</body>\n",
      "</html>\n",
      "\n"
     ]
    }
   ],
   "source": [
    "#print(html)"
   ]
  },
  {
   "cell_type": "code",
   "execution_count": 41,
   "id": "f102354f-3d81-4d42-8352-ffee6d9fed5c",
   "metadata": {},
   "outputs": [
    {
     "data": {
      "text/plain": [
       "45568"
      ]
     },
     "execution_count": 41,
     "metadata": {},
     "output_type": "execute_result"
    }
   ],
   "source": [
    "table_index = html.find('<table')\n",
    "table_index"
   ]
  },
  {
   "cell_type": "code",
   "execution_count": 40,
   "id": "84e6c7ac-b9cd-4150-a7ca-918c42d30586",
   "metadata": {},
   "outputs": [
    {
     "data": {
      "text/plain": [
       "47314"
      ]
     },
     "execution_count": 40,
     "metadata": {},
     "output_type": "execute_result"
    }
   ],
   "source": [
    "table_end_index = html.find('</table>')\n",
    "table_end_index"
   ]
  },
  {
   "cell_type": "code",
   "execution_count": 44,
   "id": "3b436c88-6179-4c49-932d-471887e9aca9",
   "metadata": {},
   "outputs": [
    {
     "data": {
      "text/plain": [
       "45568"
      ]
     },
     "execution_count": 44,
     "metadata": {},
     "output_type": "execute_result"
    }
   ],
   "source": [
    "start_index = table_index\n",
    "start_index"
   ]
  },
  {
   "cell_type": "code",
   "execution_count": 45,
   "id": "8335a752-fb1d-4685-9bf3-071d75a38525",
   "metadata": {},
   "outputs": [
    {
     "data": {
      "text/plain": [
       "'<table style=\"\" class=\"noprint plainlinks ambox ambox-content\">\\n<tbody><tr>\\n<td class=\"ambox-image\" width=\"40\">\\n<span class=\"mw-default-size\" typeof=\"mw:File\"><a href=\"/wiki/Archivo:Commons-emblem-issue.svg\" class=\"mw-file-description\"><img alt=\"\" src=\"//upload.wikimedia.org/wikipedia/commons/thumb/b/bc/Commons-emblem-issue.svg/40px-Commons-emblem-issue.svg.png\" decoding=\"async\" width=\"40\" height=\"40\" class=\"mw-file-element\" srcset=\"//upload.wikimedia.org/wikipedia/commons/thumb/b/bc/Commons-emblem-issue.svg/60px-Commons-emblem-issue.svg.png 1.5x, //upload.wikimedia.org/wikipedia/commons/thumb/b/bc/Commons-emblem-issue.svg/80px-Commons-emblem-issue.svg.png 2x\" data-file-width=\"48\" data-file-height=\"48\" /></a></span></td>\\n<td class=\"ambox-text\"><div class=\"ambox-text-div\"><strong>En este artículo  se detectaron varios problemas.</strong> <span class=\"hide-when-compact\">Por favor, <a class=\"external text\" href=\"https://es.wikipedia.org/w/index.php?title=Anexo:Ciudades_de_Rep%C3%BAblica_Dominicana_por_poblaci%C3%B3n&amp;action=edit\">edítalo</a> y/o discute los problemas en la <a href=\"/wiki/Anexo_discusi%C3%B3n:Ciudades_de_Rep%C3%BAblica_Dominicana_por_poblaci%C3%B3n\" title=\"Anexo discusión:Ciudades de República Dominicana por población\">discusión</a> para mejorarlo:<div>\\n<ul><li>Carece de <b><a href=\"/wiki/Wikipedia:REF\" class=\"mw-redirect\" title=\"Wikipedia:REF\">fuentes o referencias</a></b> que aparezcan en una <a href=\"/wiki/Wikipedia:VER\" class=\"mw-redirect\" title=\"Wikipedia:VER\">fuente acreditada</a>.</li>\\n<li>Podría contener información desactualizada.</li></ul></div></span></div><div class=\"hide-when-compact\"><small>&#32;\\n<div>Este aviso fue puesto el 27 de octubre de 2018.</div></small></div></td>\\n</tr>\\n</tbody>'"
      ]
     },
     "execution_count": 45,
     "metadata": {},
     "output_type": "execute_result"
    }
   ],
   "source": [
    "table = html[start_index:title_end_index]\n",
    "table"
   ]
  },
  {
   "cell_type": "code",
   "execution_count": 31,
   "id": "0c95b403-a53e-42cb-9e40-e7eae0a6c70f",
   "metadata": {},
   "outputs": [
    {
     "data": {
      "text/plain": [
       "138"
      ]
     },
     "execution_count": 31,
     "metadata": {},
     "output_type": "execute_result"
    }
   ],
   "source": [
    "name_index = html.find('Name')\n",
    "name_index"
   ]
  },
  {
   "cell_type": "code",
   "execution_count": 32,
   "id": "d8c404a4-6d68-4130-a633-c45fb00200f7",
   "metadata": {},
   "outputs": [
    {
     "data": {
      "text/plain": [
       "'N'"
      ]
     },
     "execution_count": 32,
     "metadata": {},
     "output_type": "execute_result"
    }
   ],
   "source": [
    "html[name_index]"
   ]
  },
  {
   "cell_type": "code",
   "execution_count": null,
   "id": "e7acb677-a8e1-4fc2-9fb1-84a654802ccd",
   "metadata": {},
   "outputs": [],
   "source": []
  }
 ],
 "metadata": {
  "kernelspec": {
   "display_name": "Python 3 (ipykernel)",
   "language": "python",
   "name": "python3"
  },
  "language_info": {
   "codemirror_mode": {
    "name": "ipython",
    "version": 3
   },
   "file_extension": ".py",
   "mimetype": "text/x-python",
   "name": "python",
   "nbconvert_exporter": "python",
   "pygments_lexer": "ipython3",
   "version": "3.12.3"
  }
 },
 "nbformat": 4,
 "nbformat_minor": 5
}
